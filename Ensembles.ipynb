{
 "cells": [
  {
   "cell_type": "code",
   "execution_count": 28,
   "metadata": {
    "colab": {
     "autoexec": {
      "startup": false,
      "wait_interval": 0
     }
    },
    "colab_type": "code",
    "id": "dLnS1QF70k4S"
   },
   "outputs": [],
   "source": [
    "from ToxicTextsDataset import ToxicTextsDataset \n",
    "from ToxicTextsDatasetBinary import ToxicTextsDatasetBinary \n",
    "import pandas as pd\n",
    "import numpy as np\n",
    "import matplotlib.pyplot as plt\n",
    "import time \n",
    "%matplotlib inline\n",
    "\n",
    "from sklearn.utils import shuffle\n",
    "from sklearn.model_selection import train_test_split\n",
    "from sklearn.feature_extraction.text import TfidfVectorizer\n",
    "from sklearn.metrics import f1_score, roc_auc_score\n",
    "from sklearn.multioutput import ClassifierChain\n",
    "from sklearn.linear_model import LogisticRegression, SGDClassifier, PassiveAggressiveClassifier, Perceptron\n",
    "from sklearn.multiclass import OneVsRestClassifier\n",
    "from sklearn.grid_search import GridSearchCV\n",
    "from sklearn.naive_bayes import MultinomialNB\n",
    "from scipy.sparse import hstack\n",
    "from skopt import BayesSearchCV\n",
    "\n",
    "import torch\n",
    "import torch.nn as nn\n",
    "from torch.autograd import Variable\n",
    "from torch.utils import data as td\n",
    "\n",
    "# from pydrive.auth import GoogleAuth\n",
    "# from pydrive.drive import GoogleDrive\n",
    "# from google.colab import auth\n",
    "# from oauth2client.client import GoogleCredentials\n",
    "\n",
    "# auth.authenticate_user()\n",
    "# gauth = GoogleAuth()\n",
    "# gauth.credentials = GoogleCredentials.get_application_default()\n",
    "# drive = GoogleDrive(gauth)"
   ]
  },
  {
   "cell_type": "markdown",
   "metadata": {
    "colab_type": "text",
    "id": "J5P6KBLz0k4W"
   },
   "source": []
  },
  {
   "cell_type": "code",
   "execution_count": 27,
   "metadata": {
    "colab": {
     "autoexec": {
      "startup": false,
      "wait_interval": 0
     },
     "base_uri": "https://localhost:8080/",
     "height": 221,
     "output_extras": [
      {
       "item_id": 1
      },
      {
       "item_id": 2
      }
     ]
    },
    "colab_type": "code",
    "executionInfo": {
     "elapsed": 3596,
     "status": "ok",
     "timestamp": 1521101359480,
     "user": {
      "displayName": "Anna Kuzina",
      "photoUrl": "//lh5.googleusercontent.com/-m07_BkcbLyk/AAAAAAAAAAI/AAAAAAAAfAw/JaQYpHcxvc0/s50-c-k-no/photo.jpg",
      "userId": "113434411624649894294"
     },
     "user_tz": -180
    },
    "id": "he1cC_6v0k4Z",
    "outputId": "cd6ad2c1-789b-4a6d-caf8-489eea395239"
   },
   "outputs": [
    {
     "name": "stdout",
     "output_type": "stream",
     "text": [
      " file Title identiefied :train.csv\n"
     ]
    },
    {
     "data": {
      "text/html": [
       "<div>\n",
       "<style scoped>\n",
       "    .dataframe tbody tr th:only-of-type {\n",
       "        vertical-align: middle;\n",
       "    }\n",
       "\n",
       "    .dataframe tbody tr th {\n",
       "        vertical-align: top;\n",
       "    }\n",
       "\n",
       "    .dataframe thead th {\n",
       "        text-align: right;\n",
       "    }\n",
       "</style>\n",
       "<table border=\"1\" class=\"dataframe\">\n",
       "  <thead>\n",
       "    <tr style=\"text-align: right;\">\n",
       "      <th></th>\n",
       "      <th>id</th>\n",
       "      <th>comment_text</th>\n",
       "      <th>toxic</th>\n",
       "      <th>severe_toxic</th>\n",
       "      <th>obscene</th>\n",
       "      <th>threat</th>\n",
       "      <th>insult</th>\n",
       "      <th>identity_hate</th>\n",
       "    </tr>\n",
       "  </thead>\n",
       "  <tbody>\n",
       "    <tr>\n",
       "      <th>0</th>\n",
       "      <td>0000997932d777bf</td>\n",
       "      <td>Explanation\\nWhy the edits made under my usern...</td>\n",
       "      <td>0</td>\n",
       "      <td>0</td>\n",
       "      <td>0</td>\n",
       "      <td>0</td>\n",
       "      <td>0</td>\n",
       "      <td>0</td>\n",
       "    </tr>\n",
       "    <tr>\n",
       "      <th>1</th>\n",
       "      <td>000103f0d9cfb60f</td>\n",
       "      <td>D'aww! He matches this background colour I'm s...</td>\n",
       "      <td>0</td>\n",
       "      <td>0</td>\n",
       "      <td>0</td>\n",
       "      <td>0</td>\n",
       "      <td>0</td>\n",
       "      <td>0</td>\n",
       "    </tr>\n",
       "    <tr>\n",
       "      <th>2</th>\n",
       "      <td>000113f07ec002fd</td>\n",
       "      <td>Hey man, I'm really not trying to edit war. It...</td>\n",
       "      <td>0</td>\n",
       "      <td>0</td>\n",
       "      <td>0</td>\n",
       "      <td>0</td>\n",
       "      <td>0</td>\n",
       "      <td>0</td>\n",
       "    </tr>\n",
       "    <tr>\n",
       "      <th>3</th>\n",
       "      <td>0001b41b1c6bb37e</td>\n",
       "      <td>\"\\nMore\\nI can't make any real suggestions on ...</td>\n",
       "      <td>0</td>\n",
       "      <td>0</td>\n",
       "      <td>0</td>\n",
       "      <td>0</td>\n",
       "      <td>0</td>\n",
       "      <td>0</td>\n",
       "    </tr>\n",
       "    <tr>\n",
       "      <th>4</th>\n",
       "      <td>0001d958c54c6e35</td>\n",
       "      <td>You, sir, are my hero. Any chance you remember...</td>\n",
       "      <td>0</td>\n",
       "      <td>0</td>\n",
       "      <td>0</td>\n",
       "      <td>0</td>\n",
       "      <td>0</td>\n",
       "      <td>0</td>\n",
       "    </tr>\n",
       "  </tbody>\n",
       "</table>\n",
       "</div>"
      ],
      "text/plain": [
       "                 id                                       comment_text  toxic  \\\n",
       "0  0000997932d777bf  Explanation\\nWhy the edits made under my usern...      0   \n",
       "1  000103f0d9cfb60f  D'aww! He matches this background colour I'm s...      0   \n",
       "2  000113f07ec002fd  Hey man, I'm really not trying to edit war. It...      0   \n",
       "3  0001b41b1c6bb37e  \"\\nMore\\nI can't make any real suggestions on ...      0   \n",
       "4  0001d958c54c6e35  You, sir, are my hero. Any chance you remember...      0   \n",
       "\n",
       "   severe_toxic  obscene  threat  insult  identity_hate  \n",
       "0             0        0       0       0              0  \n",
       "1             0        0       0       0              0  \n",
       "2             0        0       0       0              0  \n",
       "3             0        0       0       0              0  \n",
       "4             0        0       0       0              0  "
      ]
     },
     "execution_count": 27,
     "metadata": {
      "tags": []
     },
     "output_type": "execute_result"
    }
   ],
   "source": [
    "# file_id = '1HEry71IeRdwFHET6XJjlU6PGuHpyJvAn'\n",
    "# # downloaded = drive.CreateFile({'id': file_id})\n",
    "# # downloaded = drive.CreateFile({'id':'1HEry71IeRdwFHET6XJjlU6PGuHpyJvAn'}) # replace the id with id of file you want to access\n",
    "# # downloaded.GetContentFile('train.csv')  \n",
    "\n",
    "\n",
    "# # Auto-iterate through all files that matches this query\n",
    "# file_list = drive.ListFile({'q': \"'root' in parents and trashed=false\"}).GetList()\n",
    "# file_list\n",
    "# fileName2Download= 'train.csv'\n",
    "\n",
    "# for file1 in file_list:\n",
    "#     if file1['title'] == fileName2Download:\n",
    "#         print(' file Title identiefied :{}'.format(file1['title']))\n",
    "#         myFile = drive.CreateFile({'id': file1['id']})\n",
    "#         myFile.GetContentFile(fileName2Download)"
   ]
  },
  {
   "cell_type": "markdown",
   "metadata": {
    "colab_type": "text",
    "id": "u3gIRjtX0k4c"
   },
   "source": [
    "### Simple classifiers"
   ]
  },
  {
   "cell_type": "code",
   "execution_count": 2,
   "metadata": {
    "colab": {
     "autoexec": {
      "startup": false,
      "wait_interval": 0
     }
    },
    "colab_type": "code",
    "id": "SyujZdaC0k4c"
   },
   "outputs": [],
   "source": [
    "df = pd.read_csv('train.csv')\n",
    "X_train, X_test, y_train, y_test = train_test_split(df.iloc[:,1], df.iloc[:,2:], test_size=.2)\n"
   ]
  },
  {
   "cell_type": "code",
   "execution_count": null,
   "metadata": {},
   "outputs": [],
   "source": []
  },
  {
   "cell_type": "code",
   "execution_count": 46,
   "metadata": {},
   "outputs": [
    {
     "data": {
      "text/plain": [
       "Text(0.5,0,'Positive/Negative')"
      ]
     },
     "execution_count": 46,
     "metadata": {},
     "output_type": "execute_result"
    },
    {
     "data": {
      "image/png": "[encoded data removed]",
      "text/plain": [
       "<matplotlib.figure.Figure at 0x11d7a17b8>"
      ]
     },
     "metadata": {},
     "output_type": "display_data"
    }
   ],
   "source": [
    "fig, ax = plt.subplots(ncols = 2, nrows = 2, figsize = (15,15))\n",
    "\n",
    "tot = np.array(np.sum(df.iloc[:,2:], axis = 1))\n",
    "tot_bad = tot[np.where(tot != 0)]\n",
    "tot_all = tot > 0\n",
    "\n",
    "tot_tr = np.sum(df.iloc[:,2:], axis = 0)\n",
    "\n",
    "ax[0,0].hist(tot_bad)\n",
    "ax[0,0].set_title('Distribution of negative comments')\n",
    "ax[0,0].set_xlabel('Numbers of negative classes per comment')\n",
    "ax[0,1].bar(tot_tr.index, tot_tr)\n",
    "ax[0,1].set_title('Distribution of negative comments')\n",
    "ax[1,0].hist(tot_all.astype(np.int))\n",
    "ax[1,0].set_xlabel('Positive/Negative')"
   ]
  },
  {
   "cell_type": "code",
   "execution_count": null,
   "metadata": {
    "colab": {
     "autoexec": {
      "startup": false,
      "wait_interval": 0
     }
    },
    "colab_type": "code",
    "id": "vvVHXMW70k4h"
   },
   "outputs": [],
   "source": [
    "word_vectorizer = TfidfVectorizer(\n",
    "    sublinear_tf=True,\n",
    "    analyzer='word',\n",
    "    token_pattern=r'\\w{1,}',\n",
    "    stop_words='english',\n",
    "    ngram_range=(1, 1),\n",
    "    max_features=10000)\n",
    "word_vectorizer.fit(df.iloc[:,1])\n",
    "\n",
    "char_vectorizer = TfidfVectorizer(\n",
    "    sublinear_tf=True,\n",
    "    analyzer='char',\n",
    "    stop_words='english',\n",
    "    ngram_range=(2, 6),\n",
    "    max_features=50000)\n",
    "char_vectorizer.fit(df.iloc[:,1])\n",
    "\n",
    "train_word_features = word_vectorizer.transform(X_train)\n",
    "test_word_features = word_vectorizer.transform(X_test)\n",
    "\n",
    "train_char_features = char_vectorizer.transform(X_train)\n",
    "test_char_features = char_vectorizer.transform(X_test)\n",
    "X_train = hstack([train_char_features, train_word_features]).tocsr()\n",
    "X_test = hstack([test_char_features, test_word_features]).tocsr()"
   ]
  },
  {
   "cell_type": "code",
   "execution_count": null,
   "metadata": {
    "colab": {
     "autoexec": {
      "startup": false,
      "wait_interval": 0
     }
    },
    "colab_type": "code",
    "id": "ihxbM4Vi0k4k"
   },
   "outputs": [],
   "source": [
    "\n",
    "\n",
    "opt = BayesSearchCV(\n",
    "    OneVsRestClassifier(SGDClassifier(tol = 1e-10, n_jobs=-1, max_iter = 1000)),\n",
    "    {   'estimator__loss': ['log', 'hinge','modified_huber', 'perceptron'],\n",
    "        'estimator__penalty':['l1', 'l2', 'elasticnet'],\n",
    "        'estimator__alpha': (1e-6, 1e+6, 'log-uniform')\n",
    "    },\n",
    "    n_iter=1\n",
    ")\n",
    "\n",
    "opt.fit(X_train, y_train)\n",
    "\n",
    "print(\"val. score: %s\" % opt.best_score_)\n",
    "print(\"test score: %s\" % opt.score(X_test, y_test))"
   ]
  },
  {
   "cell_type": "code",
   "execution_count": null,
   "metadata": {
    "colab": {
     "autoexec": {
      "startup": false,
      "wait_interval": 0
     },
     "output_extras": [
      {},
      {},
      {},
      {},
      {},
      {},
      {},
      {}
     ]
    },
    "colab_type": "code",
    "id": "5Z_lJ8Js0k4n",
    "outputId": "0a8c3212-21a4-42dc-a91d-d3d6ec61b7c6"
   },
   "outputs": [
    {
     "name": "stdout",
     "output_type": "stream",
     "text": [
      "fitting ovr...\n",
      "fitting chain 0...\n",
      "fitting chain 1...\n",
      "fitting chain 2...\n",
      "fitting chain 3...\n",
      "fitting chain 4...\n",
      "fitting chain 5...\n",
      "fitting chain 6...\n",
      "fitting chain 7...\n",
      "fitting chain 8...\n",
      "fitting chain 9...\n",
      "Done!\n"
     ]
    },
    {
     "data": {
      "image/png": "[encoded data removed]",
      "text/plain": [
       "<matplotlib.figure.Figure at 0x11abf69b0>"
      ]
     },
     "metadata": {
      "tags": []
     },
     "output_type": "display_data"
    },
    {
     "name": "stdout",
     "output_type": "stream",
     "text": [
      "fitting ovr...\n",
      "fitting chain 0...\n",
      "fitting chain 1...\n",
      "fitting chain 2...\n",
      "fitting chain 3...\n",
      "fitting chain 4...\n",
      "fitting chain 5...\n",
      "fitting chain 6...\n",
      "fitting chain 7...\n",
      "fitting chain 8...\n",
      "fitting chain 9...\n",
      "Done!\n"
     ]
    },
    {
     "data": {
      "image/png": "[encoded data removed]",
      "text/plain": [
       "<matplotlib.figure.Figure at 0x118c92ac8>"
      ]
     },
     "metadata": {
      "tags": []
     },
     "output_type": "display_data"
    },
    {
     "name": "stdout",
     "output_type": "stream",
     "text": [
      "fitting ovr...\n",
      "fitting chain 0...\n",
      "fitting chain 1...\n",
      "fitting chain 2...\n",
      "fitting chain 3...\n",
      "fitting chain 4...\n",
      "fitting chain 5...\n",
      "fitting chain 6...\n",
      "fitting chain 7...\n",
      "fitting chain 8...\n",
      "fitting chain 9...\n",
      "Done!\n"
     ]
    },
    {
     "data": {
      "image/png": "[encoded data removed]",
      "text/plain": [
       "<matplotlib.figure.Figure at 0x11ac03198>"
      ]
     },
     "metadata": {
      "tags": []
     },
     "output_type": "display_data"
    },
    {
     "name": "stdout",
     "output_type": "stream",
     "text": [
      "fitting ovr...\n",
      "fitting chain 0...\n",
      "fitting chain 1...\n",
      "fitting chain 2...\n",
      "fitting chain 3...\n",
      "fitting chain 4...\n",
      "fitting chain 5...\n",
      "fitting chain 6...\n",
      "fitting chain 7...\n",
      "fitting chain 8...\n",
      "fitting chain 9...\n",
      "Done!\n"
     ]
    },
    {
     "data": {
      "image/png": "[encoded data removed]",
      "text/plain": [
       "<matplotlib.figure.Figure at 0x11dcd4240>"
      ]
     },
     "metadata": {
      "tags": []
     },
     "output_type": "display_data"
    }
   ],
   "source": [
    "\n",
    "\n",
    "num_chains = 10\n",
    "ovr_score = []\n",
    "chain_scores = [[] for i in range(len(loss))]\n",
    "ensemble_score = []\n",
    "\n",
    "for j, loss in enumerate(loss):\n",
    "    # Independent\n",
    "    clf = SGDClassifier(loss = loss, tol = 1e-10, penalty = 'l1', n_jobs=-1, max_iter=10000)\n",
    "    ovr = OneVsRestClassifier(clf)\n",
    "    print('fitting ovr...')\n",
    "    ovr.fit(X_train, y_train)\n",
    "    y_pred_ovr = ovr.predict(X_test)\n",
    "    ovr_score.append(roc_auc_score(y_test, y_pred_ovr))\n",
    "\n",
    "    # Chains\n",
    "    chains = [ClassifierChain(clf, order='random', random_state=i) for i in range(num_chains)]\n",
    "\n",
    "    for k, chain in enumerate(chains):\n",
    "        print('fitting chain {}...'.format(k))\n",
    "        chain.fit(X_train, y_train)\n",
    "    print('Done!')\n",
    "    \n",
    "    y_pred_chains = np.array([chain.predict(X_test) for chain in chains])\n",
    "    chain_scores[j] = [roc_auc_score(y_test, y_pred_chain)\n",
    "                         for y_pred_chain in y_pred_chains]\n",
    "\n",
    "    y_pred_ensemble = y_pred_chains.mean(axis=0)\n",
    "    ensemble_score.append(roc_auc_score(y_test,  y_pred_ensemble))\n",
    "\n",
    "    model_scores = [ovr_score[j]] + chain_scores[j] + [ensemble_score[j]]\n",
    "    \n",
    "\n",
    "    model_names = ['Independent'] + ['Chain {}'.format(c+1) for c in range(num_chains)] + ['Ensemble']\n",
    "\n",
    "    x_pos = np.arange(len(model_names))\n",
    "\n",
    "# # Plot the Jaccard similarity scores for the independent model, each of the\n",
    "# # chains, and the ensemble (note that the vertical axis on this plot does\n",
    "# # not begin at 0).\n",
    "\n",
    "    fig, ax = plt.subplots(figsize=(7, 4))\n",
    "    ax.set_title('Classifier Chain Ensemble Performance for {}'.format(loss))\n",
    "    ax.set_xticks(x_pos)\n",
    "    ax.set_xticklabels(model_names, rotation='vertical')\n",
    "    ax.set_ylabel('ROC AUC score')\n",
    "    ax.set_ylim([min(model_scores) * .9, max(model_scores) * 1.1])\n",
    "    colors = ['r'] + ['b'] * len(chain_scores[j]) + ['g']\n",
    "    ax.bar(x_pos, model_scores, alpha=0.5, color=colors)\n",
    "    plt.tight_layout()\n",
    "    plt.show()"
   ]
  },
  {
   "cell_type": "code",
   "execution_count": null,
   "metadata": {
    "colab": {
     "autoexec": {
      "startup": false,
      "wait_interval": 0
     }
    },
    "colab_type": "code",
    "id": "W1-74--N0k4q"
   },
   "outputs": [],
   "source": [
    "y_pred_chains"
   ]
  },
  {
   "cell_type": "code",
   "execution_count": null,
   "metadata": {
    "colab": {
     "autoexec": {
      "startup": false,
      "wait_interval": 0
     }
    },
    "colab_type": "code",
    "id": "ctQEQZw50k4t"
   },
   "outputs": [],
   "source": []
  },
  {
   "cell_type": "code",
   "execution_count": null,
   "metadata": {
    "colab": {
     "autoexec": {
      "startup": false,
      "wait_interval": 0
     }
    },
    "colab_type": "code",
    "id": "RvWj-27q0k4v"
   },
   "outputs": [],
   "source": []
  },
  {
   "cell_type": "markdown",
   "metadata": {
    "colab_type": "text",
    "id": "vrGHA-0V0k4y"
   },
   "source": [
    "### NN"
   ]
  },
  {
   "cell_type": "code",
   "execution_count": null,
   "metadata": {
    "colab": {
     "autoexec": {
      "startup": false,
      "wait_interval": 0
     },
     "output_extras": [
      {}
     ]
    },
    "colab_type": "code",
    "id": "c56MSMOk0k4y",
    "outputId": "3ebeb1b4-d076-44e8-e3ec-d6a0c29fb785"
   },
   "outputs": [
    {
     "name": "stdout",
     "output_type": "stream",
     "text": [
      "Downloading data from train.csv... Completed\n",
      "Generating vocabulary... Completed\n",
      "Creating train dataset... Completed\n",
      "Creating validation dataset... Completed\n"
     ]
    }
   ],
   "source": []
  },
  {
   "cell_type": "code",
   "execution_count": null,
   "metadata": {
    "colab": {
     "autoexec": {
      "startup": false,
      "wait_interval": 0
     }
    },
    "colab_type": "code",
    "id": "WbjCpjoT0k41"
   },
   "outputs": [],
   "source": []
  },
  {
   "cell_type": "code",
   "execution_count": null,
   "metadata": {
    "colab": {
     "autoexec": {
      "startup": false,
      "wait_interval": 0
     }
    },
    "colab_type": "code",
    "id": "O-0T-E100k43"
   },
   "outputs": [],
   "source": [
    "class LSTMBinary(nn.Module):\n",
    "    def __init__(self, \n",
    "                 vocab_size=20000, \n",
    "                 embedding_dim = 100, \n",
    "                 hidden_dim=64, \n",
    "                 batch_size=10, \n",
    "                 conv_channels=32, \n",
    "                 use_cuda=True,\n",
    "                 num_of_cl_features=4):\n",
    "        \"\"\"\n",
    "            A model from paper \"A Convolutional Attention Model for Text Classification\" \n",
    "            by Jiachen Du, Lin Gui, Ruifeng Xu, Yulan He \n",
    "            http://tcci.ccf.org.cn/conference/2017/papers/1057.pdf\n",
    "            With modified outter layer (softmax -> sigmoid) for multilabel classification\n",
    "            and added character level features\n",
    "            \n",
    "        \"\"\"\n",
    "        super(LSTMBinary, self).__init__()\n",
    "        self.embedding_dim = embedding_dim\n",
    "        self.hidden_dim = hidden_dim\n",
    "        self.batch_size = batch_size\n",
    "        self.conv_channels = conv_channels\n",
    "        self.use_cuda = use_cuda\n",
    "        self.num_of_cl_features = num_of_cl_features\n",
    "        \n",
    "        if(self.use_cuda):\n",
    "            self.embeddings = nn.Embedding(vocab_size, embedding_dim=embedding_dim).cuda()\n",
    "            self.lstm = nn.LSTM(input_size=embedding_dim, hidden_size=hidden_dim // 2, \n",
    "                            num_layers=1, bidirectional=True, batch_first=True).cuda()\n",
    "                 # // 2 is because we would like to concat hidden states, \n",
    "                # calculated from both sides of LSTM and aquire exactly hidden_dim\n",
    "            \n",
    "            self.conv = nn.Conv1d(in_channels=embedding_dim, \n",
    "                                  out_channels=conv_channels, \n",
    "                                  kernel_size=5, \n",
    "                                  padding=2).cuda()\n",
    "    \n",
    "            self.linear = nn.Linear(conv_channels, 1).cuda()\n",
    "            self.linear_final = nn.Linear(hidden_dim + num_of_cl_features, 2).cuda() \n",
    "            # we have 6 classes to predict\n",
    "        else:\n",
    "            self.embeddings = nn.Embedding(vocab_size, embedding_dim=embedding_dim)\n",
    "            self.lstm = nn.LSTM(input_size=embedding_dim, hidden_size=hidden_dim // 2, \n",
    "                            num_layers=1, bidirectional=True, batch_first=True)\n",
    "            \n",
    "            self.conv = nn.Conv1d(in_channels=embedding_dim, \n",
    "                                  out_channels=conv_channels, \n",
    "                                  kernel_size=5, \n",
    "                                  padding=2)\n",
    "    \n",
    "            self.linear = nn.Linear(conv_channels, 1)\n",
    "            self.linear_final = nn.Linear(hidden_dim + num_of_cl_features, 2) \n",
    "            \n",
    "        self.init_hidden()\n",
    "        \n",
    "        \n",
    "    def init_hidden(self):\n",
    "        if(self.use_cuda):\n",
    "            self.hidden = (Variable(torch.zeros(2, \n",
    "                                                self.batch_size, \n",
    "                                                self.hidden_dim // 2)).cuda(), \n",
    "                           Variable(torch.zeros(2, \n",
    "                                                self.batch_size, \n",
    "                                                self.hidden_dim // 2)).cuda())\n",
    "        else:\n",
    "            self.hidden = (Variable(torch.zeros(2, \n",
    "                                                self.batch_size, \n",
    "                                                self.hidden_dim // 2)), \n",
    "                           Variable(torch.zeros(2, \n",
    "                                                self.batch_size, \n",
    "                                                self.hidden_dim // 2)))\n",
    "    \n",
    "    def forward(self, input_seq, cl_features=None):\n",
    "        embed = self.embeddings(input_seq)\n",
    "        output, _ = self.lstm(embed, self.hidden)\n",
    "        \n",
    "        conv_out = self.conv(embed.permute(0, 2, 1))\n",
    "        \n",
    "        attention_tensor = torch.mean(conv_out, dim=1)\n",
    "        \n",
    "        features = torch.sum(output * attention_tensor.resize(attention_tensor.data.shape[0], attention_tensor.data.shape[1], 1), dim=1)\n",
    "        \n",
    "        if(cl_features is not None and self.num_of_cl_features == cl_features.data.shape[1]):\n",
    "            features = torch.cat((features, cl_features), dim=1)\n",
    "        elif(cl_features is not None and self.num_of_cl_features != cl_features.data.shape[1]):\n",
    "            print(\"\"\"Recieved unexpected number of character level features. \n",
    "                     Model expected to recieve {} features, but received {}. \n",
    "                     Check model constructor or sample passed in forward\"\"\".format(self.num_of_cl_features, cl_features.data.shape[1]))\n",
    "            raise ValueError()\n",
    "        elif(cl_features is None and self.num_of_cl_features > 0):\n",
    "            print(\"\"\"Model expected to recieve {} features, but received None. \n",
    "                     Check model constructor or sample passed in forward\"\"\".format(self.num_of_cl_features))\n",
    "            raise ValueError()\n",
    "            \n",
    "        predictions = nn.functional.softmax(self.linear_final(features), dim = 1)\n",
    "        \n",
    "        return predictions\n",
    "    \n",
    "#     def fit(self, lr, weight_decay, epochs):\n",
    "#         optimizer = torch.optim.Adam(self.parameters(), lr=lr, weight_decay=weight_decay)\n",
    "\n",
    "#         if(use_cuda): loss_function = nn.MultiLabelSoftMarginLoss().cuda()\n",
    "#         else: loss_function = nn.MultiLabelSoftMarginLoss()\n",
    "\n",
    "#         start = time.time()\n",
    "#         for i in range(epochs):\n",
    "#             train_stats['train_loss'].append(0)\n",
    "#             train_stats['valid_loss'].append(0)\n",
    "#             all_predictions = Variable(torch.zeros(1))\n",
    "#             all_true_labels = Variable(torch.zeros(1))\n",
    "\n",
    "#             for mode in ['train', 'valid']:\n",
    "#                 dataset.mode = mode\n",
    "#                 dataset.shuffle()\n",
    "#                 for sample in dataset:\n",
    "#                     if(mode == 'train'):\n",
    "#                         optimizer.zero_grad()\n",
    "#                         model.init_hidden()\n",
    "\n",
    "#                         pred = model.forward(sample['input'], sample['cl_features'])[:,0]\n",
    "#                         loss = loss_function(pred, sample['labels'][:,target])\n",
    "#                         loss.backward()\n",
    "#                         optimizer.step()\n",
    "#                         train_stats['train_loss'][-1] += loss.data[0]\n",
    "        "
   ]
  },
  {
   "cell_type": "code",
   "execution_count": null,
   "metadata": {
    "colab": {
     "autoexec": {
      "startup": false,
      "wait_interval": 0
     },
     "output_extras": [
      {}
     ]
    },
    "colab_type": "code",
    "id": "oOsgVcNf0k47",
    "outputId": "c3138d39-d1ba-4c77-bf8f-eaa274fa8e1f"
   },
   "outputs": [
    {
     "ename": "NameError",
     "evalue": "name 'ToxicTextsDatasetBinary' is not defined",
     "output_type": "error",
     "traceback": [
      "\u001b[0;31m---------------------------------------------------------------------------\u001b[0m",
      "\u001b[0;31mNameError\u001b[0m                                 Traceback (most recent call last)",
      "\u001b[0;32m<ipython-input-141-1f2ee5561a79>\u001b[0m in \u001b[0;36m<module>\u001b[0;34m()\u001b[0m\n\u001b[1;32m      6\u001b[0m \u001b[0mn_valid_batches\u001b[0m \u001b[0;34m=\u001b[0m \u001b[0;36m500\u001b[0m\u001b[0;34m\u001b[0m\u001b[0m\n\u001b[1;32m      7\u001b[0m \u001b[0;34m\u001b[0m\u001b[0m\n\u001b[0;32m----> 8\u001b[0;31m dataset = ToxicTextsDatasetBinary(n_test_batches=1, \n\u001b[0m\u001b[1;32m      9\u001b[0m                             \u001b[0mn_train_batches\u001b[0m\u001b[0;34m=\u001b[0m\u001b[0mn_train_batches\u001b[0m\u001b[0;34m,\u001b[0m\u001b[0;34m\u001b[0m\u001b[0m\n\u001b[1;32m     10\u001b[0m                             \u001b[0mn_valid_batches\u001b[0m\u001b[0;34m=\u001b[0m\u001b[0mn_valid_batches\u001b[0m\u001b[0;34m,\u001b[0m\u001b[0;34m\u001b[0m\u001b[0m\n",
      "\u001b[0;31mNameError\u001b[0m: name 'ToxicTextsDatasetBinary' is not defined"
     ]
    }
   ],
   "source": [
    "batch_size = 6\n",
    "use_cuda = True\n",
    "validation_size = 0.15\n",
    "vocab_size = 3000\n",
    "n_train_batches = 1000\n",
    "n_valid_batches = 500\n",
    "label_index = 0\n",
    "\n",
    "dataset = ToxicTextsDataset(label_index = 0,n_test_batches=1, \n",
    "                            n_train_batches=n_train_batches, \n",
    "                            n_valid_batches=n_valid_batches,\n",
    "                            valid_size=validation_size,\n",
    "                            test_size=0.,\n",
    "                            batch_size=batch_size, \n",
    "                            vocab_size=vocab_size, \n",
    "                            verbose=1,\n",
    "                            use_cuda = use_cuda)"
   ]
  },
  {
   "cell_type": "code",
   "execution_count": null,
   "metadata": {
    "colab": {
     "autoexec": {
      "startup": false,
      "wait_interval": 0
     },
     "output_extras": [
      {}
     ]
    },
    "colab_type": "code",
    "id": "yUiZfTC40k4_",
    "outputId": "e9517c0c-79e7-4e74-dc57-9ea6d546a52e"
   },
   "outputs": [
    {
     "name": "stdout",
     "output_type": "stream",
     "text": [
      "Epoch 000; train loss = 662.05; validation loss = 315.00; validation roc auc score= 0.69; ETA = 616 s\n",
      "\n",
      "Epoch 001; train loss = 599.59; validation loss = 317.02; validation roc auc score= 0.77; ETA = 568 s\n",
      "\n",
      "Epoch 002; train loss = 570.16; validation loss = 291.97; validation roc auc score= 0.80; ETA = 534 s\n",
      "\n",
      "Epoch 003; train loss = 561.76; validation loss = 306.40; validation roc auc score= 0.81; ETA = 490 s\n",
      "\n",
      "Epoch 004; train loss = 548.27; validation loss = 289.19; validation roc auc score= 0.83; ETA = 450 s\n",
      "\n",
      "Epoch 005; train loss = 539.79; validation loss = 290.09; validation roc auc score= 0.82; ETA = 409 s\n",
      "\n",
      "Epoch 006; train loss = 538.46; validation loss = 294.73; validation roc auc score= 0.82; ETA = 369 s\n",
      "\n",
      "Epoch 007; train loss = 527.82; validation loss = 292.38; validation roc auc score= 0.81; ETA = 329 s\n",
      "\n",
      "Epoch 008; train loss = 526.35; validation loss = 303.93; validation roc auc score= 0.81; ETA = 289 s\n",
      "\n",
      "Epoch 009; train loss = 535.54; validation loss = 291.35; validation roc auc score= 0.82; ETA = 248 s\n",
      "\n",
      "Epoch 010; train loss = 521.69; validation loss = 288.96; validation roc auc score= 0.82; ETA = 208 s\n",
      "\n",
      "Epoch 011; train loss = 521.53; validation loss = 286.84; validation roc auc score= 0.81; ETA = 166 s\n",
      "\n",
      "Epoch 012; train loss = 519.81; validation loss = 289.73; validation roc auc score= 0.82; ETA = 124 s\n",
      "\n",
      "Epoch 013; train loss = 516.76; validation loss = 288.61; validation roc auc score= 0.83; ETA =  83 s\n",
      "\n",
      "Epoch 014; train loss = 521.38; validation loss = 288.90; validation roc auc score= 0.83; ETA =  41 s\n",
      "\n"
     ]
    }
   ],
   "source": [
    "lr = 1e-3\n",
    "weight_decay = 1e-5\n",
    "embedding_dim = 20\n",
    "hidden_dim = 10\n",
    "conv_channels = 32\n",
    "target = 0\n",
    "\n",
    "\n",
    "epochs = 15\n",
    "\n",
    "train_stats = {'train_loss':[0], 'valid_loss':[0], 'roc_auc_score':[]}\n",
    "\n",
    "model = LSTMBinary(vocab_size=vocab_size, \n",
    "                   embedding_dim = embedding_dim, \n",
    "                   hidden_dim=hidden_dim, \n",
    "                   conv_channels=conv_channels,\n",
    "                               batch_size=batch_size, \n",
    "                               use_cuda=use_cuda)\n",
    "\n",
    "optimizer = torch.optim.Adam(model.parameters(), lr=lr, weight_decay=weight_decay)\n",
    "\n",
    "if(use_cuda): loss_function = nn.MultiLabelSoftMarginLoss().cuda()\n",
    "else: loss_function = nn.Ent()\n",
    "\n",
    "\n",
    "start = time.time()\n",
    "for i in range(epochs):\n",
    "    train_stats['train_loss'].append(0)\n",
    "    train_stats['valid_loss'].append(0)\n",
    "    all_predictions = Variable(torch.zeros(1))\n",
    "    all_true_labels = Variable(torch.zeros(1))\n",
    "\n",
    "    for mode in ['train', 'valid']:\n",
    "        dataset.mode = mode\n",
    "        dataset.shuffle()\n",
    "        for sample in dataset:\n",
    "            if(mode == 'train'):\n",
    "                optimizer.zero_grad()\n",
    "                model.init_hidden()\n",
    "\n",
    "                pred = model.forward(sample['input'], sample['cl_features'])[:,0]\n",
    "                loss = loss_function(pred, sample['labels'][:,target])\n",
    "                loss.backward()\n",
    "                optimizer.step()\n",
    "                train_stats['train_loss'][-1] += loss.data[0]\n",
    "            else:\n",
    "                model.init_hidden()\n",
    "                pred = model.forward(sample['input'], sample['cl_features'])[:,0]\n",
    "                train_stats['valid_loss'][-1] += loss_function(pred, sample['labels'][:,target]).data[0]\n",
    "                all_predictions = torch.cat((all_predictions, pred.cpu()))\n",
    "                all_true_labels = torch.cat((all_true_labels, sample['labels'][:,target].cpu()))\n",
    "\n",
    "            \n",
    "    all_predictions = all_predictions.data.numpy()\n",
    "    all_true_labels = all_true_labels.data.numpy()       \n",
    "    train_stats['roc_auc_score'].append(roc_auc_score(all_true_labels, all_predictions))\n",
    "            \n",
    "            \n",
    "    print('Epoch {:03d}; train loss = {:4.2f}; validation loss = {:2.2f}; validation roc auc score= {:0.2f}; ETA = {:3.0f} s\\n'.format(i+1, \n",
    "                                                                              train_stats['train_loss'][-1], \n",
    "                                                                              train_stats['valid_loss'][-1], \n",
    "                                                                              train_stats['roc_auc_score'][-1],\n",
    "                                                                             (epochs - i)*(time.time() - start)/(i+1)))"
   ]
  },
  {
   "cell_type": "markdown",
   "metadata": {
    "colab_type": "text",
    "id": "Wx-XTKX10k5B"
   },
   "source": [
    "* Нейронка для бинарной классификации\n",
    "* Надо добавить фичу (результат предыдущих классификаторов)"
   ]
  },
  {
   "cell_type": "code",
   "execution_count": null,
   "metadata": {
    "colab": {
     "autoexec": {
      "startup": false,
      "wait_interval": 0
     }
    },
    "colab_type": "code",
    "id": "rIFlcU6e0k5C"
   },
   "outputs": [],
   "source": [
    "def ChainingClassifier(target, target_num):\n",
    "    # получаем новые фичи\n",
    "    for i in range(target_num):\n",
    "        "
   ]
  },
  {
   "cell_type": "code",
   "execution_count": null,
   "metadata": {
    "colab": {
     "autoexec": {
      "startup": false,
      "wait_interval": 0
     }
    },
    "colab_type": "code",
    "id": "4uU-WcL20k5F"
   },
   "outputs": [],
   "source": []
  },
  {
   "cell_type": "code",
   "execution_count": null,
   "metadata": {
    "colab": {
     "autoexec": {
      "startup": false,
      "wait_interval": 0
     }
    },
    "colab_type": "code",
    "id": "VOuQtsSy0k5I"
   },
   "outputs": [],
   "source": []
  },
  {
   "cell_type": "code",
   "execution_count": null,
   "metadata": {
    "colab": {
     "autoexec": {
      "startup": false,
      "wait_interval": 0
     }
    },
    "colab_type": "code",
    "id": "NsU7QReN0k5K"
   },
   "outputs": [],
   "source": []
  },
  {
   "cell_type": "code",
   "execution_count": null,
   "metadata": {
    "colab": {
     "autoexec": {
      "startup": false,
      "wait_interval": 0
     }
    },
    "colab_type": "code",
    "id": "zxCDa-K-0k5M"
   },
   "outputs": [],
   "source": []
  }
 ],
 "metadata": {
  "accelerator": "GPU",
  "colab": {
   "default_view": {},
   "name": "Ensembles.ipynb",
   "provenance": [],
   "version": "0.3.2",
   "views": {}
  },
  "kernelspec": {
   "display_name": "Python 3",
   "language": "python",
   "name": "python3"
  },
  "language_info": {
   "codemirror_mode": {
    "name": "ipython",
    "version": 3
   },
   "file_extension": ".py",
   "mimetype": "text/x-python",
   "name": "python",
   "nbconvert_exporter": "python",
   "pygments_lexer": "ipython3",
   "version": "3.6.4"
  }
 },
 "nbformat": 4,
 "nbformat_minor": 2
}
